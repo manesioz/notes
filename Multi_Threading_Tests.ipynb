{
 "cells": [
  {
   "cell_type": "code",
   "execution_count": 1,
   "metadata": {},
   "outputs": [],
   "source": [
    "#Tests of multi-threading and multi-processing performance in Python \n",
    "import random\n",
    "from threading import Thread\n",
    "from multiprocessing import Process\n",
    "import time\n",
    "from urllib.request import urlopen"
   ]
  },
  {
   "cell_type": "code",
   "execution_count": 2,
   "metadata": {},
   "outputs": [],
   "source": [
    "#first, let's test a CPU-bounded task (with no I/O) \n",
    "def countdown(n):\n",
    "    while n>0:\n",
    "        n -= 1"
   ]
  },
  {
   "cell_type": "code",
   "execution_count": 3,
   "metadata": {},
   "outputs": [
    {
     "name": "stdout",
     "output_type": "stream",
     "text": [
      "Single thread test\n",
      "Time taken in seconds:  52.53856897354126\n"
     ]
    }
   ],
   "source": [
    "num = 1000000000\n",
    "\n",
    "start = time.time()\n",
    "countdown(num)\n",
    "end = time.time()\n",
    "\n",
    "single_thread_result = end - start\n",
    "print('Single thread test')\n",
    "print('Time taken in seconds: ', single_thread_result)"
   ]
  },
  {
   "cell_type": "code",
   "execution_count": 4,
   "metadata": {},
   "outputs": [
    {
     "name": "stdout",
     "output_type": "stream",
     "text": [
      "Multi-threading test\n",
      "Time taken in seconds:  54.16907000541687\n"
     ]
    }
   ],
   "source": [
    "thread_1 = Thread(target=countdown, args=(num//2,))\n",
    "thread_2 = Thread(target=countdown, args=(num//2,))\n",
    "\n",
    "start = time.time()\n",
    "thread_1.start()\n",
    "thread_2.start()\n",
    "thread_1.join()\n",
    "thread_2.join()\n",
    "end = time.time()\n",
    "\n",
    "multi_thread_result = end - start\n",
    "print(\"Multi-threading test\")\n",
    "print('Time taken in seconds: ', multi_thread_result)"
   ]
  },
  {
   "cell_type": "code",
   "execution_count": 5,
   "metadata": {},
   "outputs": [],
   "source": [
    "def performance(single, multi): \n",
    "    if(single <= multi): \n",
    "        print(\"Single threaded process is more efficient than multi-threaded\")\n",
    "    else: \n",
    "        print(\"Multi-threaded process is more efficient than single\")"
   ]
  },
  {
   "cell_type": "code",
   "execution_count": 6,
   "metadata": {},
   "outputs": [
    {
     "name": "stdout",
     "output_type": "stream",
     "text": [
      "Single threaded process is more efficient than multi-threaded\n"
     ]
    }
   ],
   "source": [
    "performance(single_thread_result, multi_thread_result)"
   ]
  },
  {
   "cell_type": "code",
   "execution_count": 7,
   "metadata": {},
   "outputs": [
    {
     "data": {
      "text/plain": [
       "'Clearly, the GIL makes CPU-bounded tasks with no I/O very inefficient for multi-threading. This is because they are essentially run as a single core but with even more overhead due to the lock. '"
      ]
     },
     "execution_count": 7,
     "metadata": {},
     "output_type": "execute_result"
    }
   ],
   "source": [
    "'''Clearly, the GIL makes CPU-bounded tasks with no I/O very inefficient for multi-threading. This is because they are essentially run as a single core but with even more overhead due to the lock. ''' "
   ]
  },
  {
   "cell_type": "code",
   "execution_count": 11,
   "metadata": {},
   "outputs": [
    {
     "data": {
      "text/plain": [
       "'This single-threaded process took: 1.4330229759216309 seconds'"
      ]
     },
     "execution_count": 11,
     "metadata": {},
     "output_type": "execute_result"
    }
   ],
   "source": [
    "#Now let's test an I/O-bounded task\n",
    "\n",
    "urls = ['http://www.youtube.com', 'http://www.facebook.com',\n",
    "        'http://www.baidu.com', 'http://www.yahoo.com', \n",
    "        'http://www.amazon.com', 'http://www.wikipedia.org']\n",
    "\n",
    "\n",
    "def open_url_single_thread(url):\n",
    "    start = time.time() \n",
    "    for i in range(len(url)): \n",
    "        resp = urlopen(url[i])\n",
    "    stop = time.time() \n",
    "    return \"This single-threaded process took: \" +  str(stop - start) + \" seconds\"\n",
    "\n",
    "open_url_single_thread(urls) "
   ]
  },
  {
   "cell_type": "code",
   "execution_count": 13,
   "metadata": {},
   "outputs": [
    {
     "name": "stdout",
     "output_type": "stream",
     "text": [
      "This multi-threaded process took: 0.7608098983764648 seconds\n"
     ]
    }
   ],
   "source": [
    "def open_url_multi_thread(url): \n",
    "    for i in range(len(url)): \n",
    "        resp = urlopen(url[i])\n",
    "        \n",
    "thread_1 = Thread(target=open_url_multi_thread, args=[urls[:3]])\n",
    "thread_2 = Thread(target=open_url_multi_thread, args=[urls[3:]])\n",
    "\n",
    "start = time.time()\n",
    "thread_1.start()\n",
    "thread_2.start()\n",
    "thread_1.join()\n",
    "thread_2.join()\n",
    "end = time.time()\n",
    "\n",
    "multi_thread_result = end - start\n",
    "print(\"This multi-threaded process took: \" +  str(end - start) + \" seconds\")"
   ]
  },
  {
   "cell_type": "code",
   "execution_count": 16,
   "metadata": {},
   "outputs": [
    {
     "data": {
      "text/plain": [
       "'Interesting, it is clear that for tasks that involve I/O, multi-threading with python is actually quite efficient. This is because the GIL is released whenever a task is waiting on an I/O, so concurrency is possible (contrasting CPU-bounded tasks which never release it unless forced)'"
      ]
     },
     "execution_count": 16,
     "metadata": {},
     "output_type": "execute_result"
    }
   ],
   "source": [
    "'''Interesting, it is clear that for tasks that involve I/O, multi-threading with python is actually quite efficient. This is because the GIL is released whenever a task is waiting on an I/O, so concurrency is possible (contrasting CPU-bounded tasks which never release it unless forced)'''"
   ]
  },
  {
   "cell_type": "code",
   "execution_count": 17,
   "metadata": {},
   "outputs": [
    {
     "name": "stdout",
     "output_type": "stream",
     "text": [
      "Multi-processing test\n",
      "Time taken in seconds:  28.029763221740723\n"
     ]
    }
   ],
   "source": [
    "#let's repeat the tests, but for processes instead of threads \n",
    "\n",
    "#first, the CPU-bounded task (with no I/O) \n",
    "process_1 = Process(target=countdown, args=(num//2,))\n",
    "process_2 = Process(target=countdown, args=(num//2,))\n",
    "\n",
    "start = time.time()\n",
    "process_1.start()\n",
    "process_2.start()\n",
    "process_1.join()\n",
    "process_2.join()\n",
    "end = time.time()\n",
    "\n",
    "multi_process_result = end - start\n",
    "print(\"Multi-processing test\")\n",
    "print('Time taken in seconds: ', multi_process_result)"
   ]
  },
  {
   "cell_type": "code",
   "execution_count": 18,
   "metadata": {},
   "outputs": [
    {
     "data": {
      "text/plain": [
       "'Wow, look at that improvement. Clearly, for CPU intensive tasks, multi-processing is the way to go'"
      ]
     },
     "execution_count": 18,
     "metadata": {},
     "output_type": "execute_result"
    }
   ],
   "source": [
    "'''Wow, look at that improvement. Clearly, for CPU intensive tasks, multi-processing is the way to go'''"
   ]
  },
  {
   "cell_type": "code",
   "execution_count": 20,
   "metadata": {},
   "outputs": [
    {
     "name": "stdout",
     "output_type": "stream",
     "text": [
      "This multi-threaded process took: 0.8122298717498779 seconds\n"
     ]
    }
   ],
   "source": [
    "#Now, the I/O task \n",
    "\n",
    "def open_url_multi_thread(url): \n",
    "    for i in range(len(url)): \n",
    "        resp = urlopen(url[i])\n",
    "        \n",
    "process_1 = Process(target=open_url_multi_thread, args=[urls[:3]])\n",
    "process_2 = Process(target=open_url_multi_thread, args=[urls[3:]])\n",
    "\n",
    "start = time.time()\n",
    "process_1.start()\n",
    "process_2.start()\n",
    "process_1.join()\n",
    "process_2.join()\n",
    "end = time.time()\n",
    "\n",
    "multi_thread_result = end - start\n",
    "print(\"This multi-threaded process took: \" +  str(end - start) + \" seconds\")"
   ]
  },
  {
   "cell_type": "code",
   "execution_count": 21,
   "metadata": {},
   "outputs": [
    {
     "data": {
      "text/plain": [
       "'Not bad, but for I/O tasks multi-threading still seems superior'"
      ]
     },
     "execution_count": 21,
     "metadata": {},
     "output_type": "execute_result"
    }
   ],
   "source": [
    "'''Not bad, but for I/O tasks multi-threading still seems superior'''"
   ]
  }
 ],
 "metadata": {
  "kernelspec": {
   "display_name": "Python 3",
   "language": "python",
   "name": "python3"
  },
  "language_info": {
   "codemirror_mode": {
    "name": "ipython",
    "version": 3
   },
   "file_extension": ".py",
   "mimetype": "text/x-python",
   "name": "python",
   "nbconvert_exporter": "python",
   "pygments_lexer": "ipython3",
   "version": "3.5.3"
  }
 },
 "nbformat": 4,
 "nbformat_minor": 2
}
